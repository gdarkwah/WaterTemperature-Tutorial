{
 "cells": [
  {
   "cell_type": "markdown",
   "metadata": {},
   "source": [
    "# Tutorial - Water Temperature\n",
    "\n",
    "## Content\n",
    "* [Setup](#Setup)\n",
    "* [1. Data](#Data)\n",
    "    * [1.1. Load Data](#LoadData)\n",
    "    * [1.2. Filter Shapefiles](#FilterShapefiles)\n",
    "    * [1.3. Filter Landsat Images](#FilterLandsatImages)\n",
    "    * [1.4. Prepare Landsat Images](#PrepareLandsatImages)\n",
    "* [2. Normalized Difference Water Index](#NDWI)\n",
    "* [3. Temperature Band](#TemperatureBand)\n",
    "* [4. Extraction of Water Temperature](#ExtractionOfWaterTemperature)\n",
    "    * [4.1. Mosaic Landsat Images](#MosaicLandsatImages)\n",
    "    * [4.2. Mask Out Water Pixels](#MaskOutWaterPixels)\n",
    "    * [4.3. Generate Temperature Time Series](#GenerateTimeSeries)\n",
    "    * [4.4. Plot Temperature Time Series](#PlotTimeSeries)"
   ]
  },
  {
   "cell_type": "markdown",
   "metadata": {},
   "source": [
    "## Setup <a class=\"anchor\" id=\"Setup\"></a>"
   ]
  },
  {
   "cell_type": "code",
   "execution_count": 1,
   "metadata": {},
   "outputs": [],
   "source": [
    "# # Install the Earth Engine Python API (https:#developers.google.com/earth-engine)\n",
    "# ! conda install -c conda-forge earthengine-api -y \n",
    "# ! conda install -c conda-forge geemap -y # Install Geemap package (https:#geemap.org/)\n",
    "# ! conda install numpy -y # Install NumPy (https:#numpy.org/)\n",
    "# ! conda install -c conda-forge pandas -y # Install Pandas (https:#pandas.pydata.org/)\n",
    "# ! conda install -c conda-forge matplotlib -y # Install Matplotlib (https:#matplotlib.org/)\n",
    "# ! conda install -c conda-forge geopandas -y # Install GeoPandas (https:#geopandas.org/)\n",
    "# ! pip install ipython==8.15.0 # Install IPython (https:#ipython.org/)"
   ]
  },
  {
   "cell_type": "code",
   "execution_count": 2,
   "metadata": {},
   "outputs": [],
   "source": [
    "import ee # Import Earth Engine API\n",
    "import geemap # Import Geemap package\n",
    "import pandas as pd # Import Pandas as pd\n",
    "import geopandas as gpd # Import GeoPandas as gpd\n",
    "import numpy as np # Import NumPy as np\n",
    "import matplotlib.pyplot as plt # Import Matplotlib as plt"
   ]
  },
  {
   "cell_type": "code",
   "execution_count": 3,
   "metadata": {},
   "outputs": [
    {
     "data": {
      "text/html": [
       "\n",
       "            <style>\n",
       "                .geemap-dark {\n",
       "                    --jp-widgets-color: white;\n",
       "                    --jp-widgets-label-color: white;\n",
       "                    --jp-ui-font-color1: white;\n",
       "                    --jp-layout-color2: #454545;\n",
       "                    background-color: #383838;\n",
       "                }\n",
       "                    \n",
       "                .geemap-dark .jupyter-button {\n",
       "                    --jp-layout-color3: #383838;\n",
       "                }\n",
       "                \n",
       "                .geemap-colab {\n",
       "                    background-color: var(--colab-primary-surface-color, white);\n",
       "                }\n",
       "                    \n",
       "                .geemap-colab .jupyter-button {\n",
       "                    --jp-layout-color3: var(--colab-primary-surface-color, white);\n",
       "                }\n",
       "            </style>\n",
       "            "
      ],
      "text/plain": [
       "<IPython.core.display.HTML object>"
      ]
     },
     "metadata": {},
     "output_type": "display_data"
    }
   ],
   "source": [
    "# ee.Authenticate()\n",
    "# ee.Initialize()"
   ]
  },
  {
   "cell_type": "code",
   "execution_count": 13,
   "metadata": {},
   "outputs": [
    {
     "data": {
      "text/html": [
       "\n",
       "            <style>\n",
       "                .geemap-dark {\n",
       "                    --jp-widgets-color: white;\n",
       "                    --jp-widgets-label-color: white;\n",
       "                    --jp-ui-font-color1: white;\n",
       "                    --jp-layout-color2: #454545;\n",
       "                    background-color: #383838;\n",
       "                }\n",
       "                    \n",
       "                .geemap-dark .jupyter-button {\n",
       "                    --jp-layout-color3: #383838;\n",
       "                }\n",
       "                \n",
       "                .geemap-colab {\n",
       "                    background-color: var(--colab-primary-surface-color, white);\n",
       "                }\n",
       "                    \n",
       "                .geemap-colab .jupyter-button {\n",
       "                    --jp-layout-color3: var(--colab-primary-surface-color, white);\n",
       "                }\n",
       "            </style>\n",
       "            "
      ],
      "text/plain": [
       "<IPython.core.display.HTML object>"
      ]
     },
     "metadata": {},
     "output_type": "display_data"
    },
    {
     "data": {
      "application/vnd.jupyter.widget-view+json": {
       "model_id": "6777baef235c443b8078dd3601a6814f",
       "version_major": 2,
       "version_minor": 0
      },
      "text/plain": [
       "Map(center=[40, -100], controls=(WidgetControl(options=['position', 'transparent_bg'], widget=SearchDataGUI(ch…"
      ]
     },
     "execution_count": 13,
     "metadata": {},
     "output_type": "execute_result"
    }
   ],
   "source": [
    "# Create a map centered at (lat, lon) 40, -100\n",
    "Map = geemap.Map(center=[40, -100], zoom=4)\n",
    "Map"
   ]
  },
  {
   "cell_type": "markdown",
   "metadata": {},
   "source": [
    "## 1. Data <a class=\"anchor\" id=\"Data\"></a>"
   ]
  },
  {
   "cell_type": "markdown",
   "metadata": {},
   "source": [
    "### 1.1. Load Data  <a class=\"anchor\" id=\"LoadData\"></a>"
   ]
  },
  {
   "cell_type": "code",
   "execution_count": 14,
   "metadata": {},
   "outputs": [
    {
     "data": {
      "text/html": [
       "\n",
       "            <style>\n",
       "                .geemap-dark {\n",
       "                    --jp-widgets-color: white;\n",
       "                    --jp-widgets-label-color: white;\n",
       "                    --jp-ui-font-color1: white;\n",
       "                    --jp-layout-color2: #454545;\n",
       "                    background-color: #383838;\n",
       "                }\n",
       "                    \n",
       "                .geemap-dark .jupyter-button {\n",
       "                    --jp-layout-color3: #383838;\n",
       "                }\n",
       "                \n",
       "                .geemap-colab {\n",
       "                    background-color: var(--colab-primary-surface-color, white);\n",
       "                }\n",
       "                    \n",
       "                .geemap-colab .jupyter-button {\n",
       "                    --jp-layout-color3: var(--colab-primary-surface-color, white);\n",
       "                }\n",
       "            </style>\n",
       "            "
      ],
      "text/plain": [
       "<IPython.core.display.HTML object>"
      ]
     },
     "metadata": {},
     "output_type": "display_data"
    }
   ],
   "source": [
    "landsat8 = ee.ImageCollection() #** enter the path to the Landsat 8 image collection\n",
    "downstream = ee.FeatureCollection() #** enter the path to the downstream reach shapefile\n",
    "reservoir = ee.FeatureCollection() #** enter the path to the reservoir shapefile"
   ]
  },
  {
   "cell_type": "markdown",
   "metadata": {},
   "source": [
    "### 1.2. Filter Shapefiles <a class=\"anchor\" id=\"FilterShapefiles\"></a>"
   ]
  },
  {
   "cell_type": "code",
   "execution_count": 15,
   "metadata": {},
   "outputs": [
    {
     "data": {
      "text/html": [
       "\n",
       "            <style>\n",
       "                .geemap-dark {\n",
       "                    --jp-widgets-color: white;\n",
       "                    --jp-widgets-label-color: white;\n",
       "                    --jp-ui-font-color1: white;\n",
       "                    --jp-layout-color2: #454545;\n",
       "                    background-color: #383838;\n",
       "                }\n",
       "                    \n",
       "                .geemap-dark .jupyter-button {\n",
       "                    --jp-layout-color3: #383838;\n",
       "                }\n",
       "                \n",
       "                .geemap-colab {\n",
       "                    background-color: var(--colab-primary-surface-color, white);\n",
       "                }\n",
       "                    \n",
       "                .geemap-colab .jupyter-button {\n",
       "                    --jp-layout-color3: var(--colab-primary-surface-color, white);\n",
       "                }\n",
       "            </style>\n",
       "            "
      ],
      "text/plain": [
       "<IPython.core.display.HTML object>"
      ]
     },
     "metadata": {},
     "output_type": "display_data"
    }
   ],
   "source": [
    "downstream = downstream.filter(ee.Filter.eq()) #** enter the condition for filtering out the shapefile\n",
    "reservoir = reservoir.filter(ee.Filter.eq()) #** enter the condition for filtering out the shapefile"
   ]
  },
  {
   "cell_type": "markdown",
   "metadata": {},
   "source": [
    "### 1.3. Filter Landsat Images <a class=\"anchor\" id=\"FilterLandsatImages\"></a>"
   ]
  },
  {
   "cell_type": "code",
   "execution_count": 16,
   "metadata": {},
   "outputs": [
    {
     "data": {
      "text/html": [
       "\n",
       "            <style>\n",
       "                .geemap-dark {\n",
       "                    --jp-widgets-color: white;\n",
       "                    --jp-widgets-label-color: white;\n",
       "                    --jp-ui-font-color1: white;\n",
       "                    --jp-layout-color2: #454545;\n",
       "                    background-color: #383838;\n",
       "                }\n",
       "                    \n",
       "                .geemap-dark .jupyter-button {\n",
       "                    --jp-layout-color3: #383838;\n",
       "                }\n",
       "                \n",
       "                .geemap-colab {\n",
       "                    background-color: var(--colab-primary-surface-color, white);\n",
       "                }\n",
       "                    \n",
       "                .geemap-colab .jupyter-button {\n",
       "                    --jp-layout-color3: var(--colab-primary-surface-color, white);\n",
       "                }\n",
       "            </style>\n",
       "            "
      ],
      "text/plain": [
       "<IPython.core.display.HTML object>"
      ]
     },
     "metadata": {},
     "output_type": "display_data"
    }
   ],
   "source": [
    "startDate = ee.Date() #** specify the start date for the landsat images\n",
    "endDate = ee.Date() #** specify the end date for the landsat images"
   ]
  },
  {
   "cell_type": "code",
   "execution_count": 17,
   "metadata": {},
   "outputs": [
    {
     "data": {
      "text/html": [
       "\n",
       "            <style>\n",
       "                .geemap-dark {\n",
       "                    --jp-widgets-color: white;\n",
       "                    --jp-widgets-label-color: white;\n",
       "                    --jp-ui-font-color1: white;\n",
       "                    --jp-layout-color2: #454545;\n",
       "                    background-color: #383838;\n",
       "                }\n",
       "                    \n",
       "                .geemap-dark .jupyter-button {\n",
       "                    --jp-layout-color3: #383838;\n",
       "                }\n",
       "                \n",
       "                .geemap-colab {\n",
       "                    background-color: var(--colab-primary-surface-color, white);\n",
       "                }\n",
       "                    \n",
       "                .geemap-colab .jupyter-button {\n",
       "                    --jp-layout-color3: var(--colab-primary-surface-color, white);\n",
       "                }\n",
       "            </style>\n",
       "            "
      ],
      "text/plain": [
       "<IPython.core.display.HTML object>"
      ]
     },
     "metadata": {},
     "output_type": "display_data"
    }
   ],
   "source": [
    "# use the shapefiles and dates to filter out the landsat images\n",
    "landsat8Filtered = landsat8.filterBounds(reservoir.merge(downstream)).filterDate(\n",
    "    startDate, endDate\n",
    ")"
   ]
  },
  {
   "cell_type": "code",
   "execution_count": 18,
   "metadata": {},
   "outputs": [
    {
     "data": {
      "text/html": [
       "\n",
       "            <style>\n",
       "                .geemap-dark {\n",
       "                    --jp-widgets-color: white;\n",
       "                    --jp-widgets-label-color: white;\n",
       "                    --jp-ui-font-color1: white;\n",
       "                    --jp-layout-color2: #454545;\n",
       "                    background-color: #383838;\n",
       "                }\n",
       "                    \n",
       "                .geemap-dark .jupyter-button {\n",
       "                    --jp-layout-color3: #383838;\n",
       "                }\n",
       "                \n",
       "                .geemap-colab {\n",
       "                    background-color: var(--colab-primary-surface-color, white);\n",
       "                }\n",
       "                    \n",
       "                .geemap-colab .jupyter-button {\n",
       "                    --jp-layout-color3: var(--colab-primary-surface-color, white);\n",
       "                }\n",
       "            </style>\n",
       "            "
      ],
      "text/plain": [
       "<IPython.core.display.HTML object>"
      ]
     },
     "metadata": {},
     "output_type": "display_data"
    }
   ],
   "source": [
    "# Inspect the first image in the collection\n",
    "Map.addLayer(\n",
    "    landsat8Filtered.first(),\n",
    "    {\"bands\": []}, #** enter the red, green and blue bandnames\n",
    "    \"Landsat 8 - Raw\"\n",
    ")"
   ]
  },
  {
   "cell_type": "markdown",
   "metadata": {},
   "source": [
    "### 1.4. Prepare Landsat Images <a class=\"anchor\" id=\"PrepareLandsatImages\"></a>"
   ]
  },
  {
   "cell_type": "code",
   "execution_count": 9,
   "metadata": {},
   "outputs": [
    {
     "data": {
      "text/html": [
       "\n",
       "            <style>\n",
       "                .geemap-dark {\n",
       "                    --jp-widgets-color: white;\n",
       "                    --jp-widgets-label-color: white;\n",
       "                    --jp-ui-font-color1: white;\n",
       "                    --jp-layout-color2: #454545;\n",
       "                    background-color: #383838;\n",
       "                }\n",
       "                    \n",
       "                .geemap-dark .jupyter-button {\n",
       "                    --jp-layout-color3: #383838;\n",
       "                }\n",
       "                \n",
       "                .geemap-colab {\n",
       "                    background-color: var(--colab-primary-surface-color, white);\n",
       "                }\n",
       "                    \n",
       "                .geemap-colab .jupyter-button {\n",
       "                    --jp-layout-color3: var(--colab-primary-surface-color, white);\n",
       "                }\n",
       "            </style>\n",
       "            "
      ],
      "text/plain": [
       "<IPython.core.display.HTML object>"
      ]
     },
     "metadata": {},
     "output_type": "display_data"
    }
   ],
   "source": [
    "# function to prepare Landsat 8 images\n",
    "def prepareLandsat8(image):\n",
    "    # mask for unwanted pixels (fill, dilated cloud, cirrus, cloud, cloud shadow, snow)\n",
    "    # Bit 0 - Fill\n",
    "    # Bit 1 - Dilated Cloud\n",
    "    # Bit 2 - Cirrus\n",
    "    # Bit 3 - Cloud\n",
    "    # Bit 4 - Cloud Shadow\n",
    "    qa_mask = image.select(\"QA_PIXEL\").bitwiseAnd(int(\"111111\", 2)).eq(0)\n",
    "    # mask for saturated pixels\n",
    "    saturation_mask = image.select(\"QA_RADSAT\").eq(0)\n",
    "\n",
    "    # Apply scaling factors to the surface reflectance and thermal bands\n",
    "    opticalBands = image.select(\"SR_B.\").multiply().add(); #** enter scaling factors\n",
    "    thermalBands = image.select(\"ST_B.*\").multiply().add(); #** enter scaling factors\n",
    "\n",
    "    # Add bands to the image and mask unwanted pixels\n",
    "    return (\n",
    "        image.addBands(opticalBands, overwrite=True)\n",
    "        .addBands(thermalBands, overwrite=True)\n",
    "        .updateMask(qa_mask)\n",
    "        .updateMask(saturation_mask)\n",
    "    )\n",
    "\n",
    "\n",
    "# map the prepareLandsat8 function over the ImageCollection\n",
    "landsat8Prep = landsat8.map(prepareLandsat8)"
   ]
  },
  {
   "cell_type": "markdown",
   "metadata": {},
   "source": [
    "## 2. Normalized Difference Water Index (NDWI) <a class=\"anchor\" id=\"NDWI\"></a>"
   ]
  },
  {
   "cell_type": "code",
   "execution_count": 10,
   "metadata": {},
   "outputs": [
    {
     "data": {
      "text/html": [
       "\n",
       "            <style>\n",
       "                .geemap-dark {\n",
       "                    --jp-widgets-color: white;\n",
       "                    --jp-widgets-label-color: white;\n",
       "                    --jp-ui-font-color1: white;\n",
       "                    --jp-layout-color2: #454545;\n",
       "                    background-color: #383838;\n",
       "                }\n",
       "                    \n",
       "                .geemap-dark .jupyter-button {\n",
       "                    --jp-layout-color3: #383838;\n",
       "                }\n",
       "                \n",
       "                .geemap-colab {\n",
       "                    background-color: var(--colab-primary-surface-color, white);\n",
       "                }\n",
       "                    \n",
       "                .geemap-colab .jupyter-button {\n",
       "                    --jp-layout-color3: var(--colab-primary-surface-color, white);\n",
       "                }\n",
       "            </style>\n",
       "            "
      ],
      "text/plain": [
       "<IPython.core.display.HTML object>"
      ]
     },
     "metadata": {},
     "output_type": "display_data"
    }
   ],
   "source": [
    "# function to calculate and add NDWI band\n",
    "def addNDWI(image):\n",
    "\n",
    "    # greenBand = \"SR_B3\"\n",
    "    # nirBand = \"SR_B5\"\n",
    "    # ndvi = image.normalizedDifference(\n",
    "    #     [nirBand, greenBand]\n",
    "    # ).rename(\"NDVI\")\n",
    "\n",
    "    ndwi = image.expression(\n",
    "        \"NDWI = (green - NIR)/(green + NIR)\",\n",
    "        {\"green\": image.select(), #** enter band name for green\n",
    "        \"NIR\": image.select(), #** enter band name for NIR\n",
    "    }).rename(\"NDWI\")\n",
    "\n",
    "    return image.addBands(ndwi)\n",
    "\n",
    "# map the addNDWI function over the ImageCollection\n",
    "landsat8Ndwi = landsat8.map(addNDWI)"
   ]
  },
  {
   "cell_type": "markdown",
   "metadata": {},
   "source": [
    "## 3. Temperature Band <a class=\"anchor\" id=\"TemperatureBand\"></a>"
   ]
  },
  {
   "cell_type": "code",
   "execution_count": 11,
   "metadata": {},
   "outputs": [
    {
     "data": {
      "text/html": [
       "\n",
       "            <style>\n",
       "                .geemap-dark {\n",
       "                    --jp-widgets-color: white;\n",
       "                    --jp-widgets-label-color: white;\n",
       "                    --jp-ui-font-color1: white;\n",
       "                    --jp-layout-color2: #454545;\n",
       "                    background-color: #383838;\n",
       "                }\n",
       "                    \n",
       "                .geemap-dark .jupyter-button {\n",
       "                    --jp-layout-color3: #383838;\n",
       "                }\n",
       "                \n",
       "                .geemap-colab {\n",
       "                    background-color: var(--colab-primary-surface-color, white);\n",
       "                }\n",
       "                    \n",
       "                .geemap-colab .jupyter-button {\n",
       "                    --jp-layout-color3: var(--colab-primary-surface-color, white);\n",
       "                }\n",
       "            </style>\n",
       "            "
      ],
      "text/plain": [
       "<IPython.core.display.HTML object>"
      ]
     },
     "metadata": {},
     "output_type": "display_data"
    }
   ],
   "source": [
    "# function to calculate and add Celcius band\n",
    "def addCelsius(image):\n",
    "    celcius = image.select(\"ST_B10\").subtract(273.15).rename(\"Celsius\")\n",
    "\n",
    "    return image.addBands(celcius)\n",
    "\n",
    "# map the addCelcius function over the ImageCollection\n",
    "landsat8Celsius = landsat8.map(addCelsius)"
   ]
  },
  {
   "cell_type": "code",
   "execution_count": 12,
   "metadata": {},
   "outputs": [
    {
     "data": {
      "text/html": [
       "\n",
       "            <style>\n",
       "                .geemap-dark {\n",
       "                    --jp-widgets-color: white;\n",
       "                    --jp-widgets-label-color: white;\n",
       "                    --jp-ui-font-color1: white;\n",
       "                    --jp-layout-color2: #454545;\n",
       "                    background-color: #383838;\n",
       "                }\n",
       "                    \n",
       "                .geemap-dark .jupyter-button {\n",
       "                    --jp-layout-color3: #383838;\n",
       "                }\n",
       "                \n",
       "                .geemap-colab {\n",
       "                    background-color: var(--colab-primary-surface-color, white);\n",
       "                }\n",
       "                    \n",
       "                .geemap-colab .jupyter-button {\n",
       "                    --jp-layout-color3: var(--colab-primary-surface-color, white);\n",
       "                }\n",
       "            </style>\n",
       "            "
      ],
      "text/plain": [
       "<IPython.core.display.HTML object>"
      ]
     },
     "metadata": {},
     "output_type": "display_data"
    }
   ],
   "source": [
    "# Map.addLayer(\n",
    "#     landsat8Celsius.first(),\n",
    "#     {\"bands\": []}, #** enter the red, green and blue bandnames\n",
    "#     \"Landsat 8 - Prepared\"\n",
    "# )"
   ]
  },
  {
   "cell_type": "code",
   "execution_count": null,
   "metadata": {},
   "outputs": [],
   "source": [
    "#?? Can you modify the code to generate images over land instead of water?"
   ]
  },
  {
   "cell_type": "markdown",
   "metadata": {},
   "source": [
    "## 4. Extraction of Water Temperature <a class=\"anchor\" id=\"ExtractionOfWaterTemperature\"></a>"
   ]
  },
  {
   "cell_type": "markdown",
   "metadata": {},
   "source": [
    "### 4.1. Mosaic Landsat Images <a class=\"anchor\" id=\"MosaicLandsatImages\"></a>"
   ]
  },
  {
   "cell_type": "code",
   "execution_count": 13,
   "metadata": {},
   "outputs": [
    {
     "data": {
      "text/html": [
       "\n",
       "            <style>\n",
       "                .geemap-dark {\n",
       "                    --jp-widgets-color: white;\n",
       "                    --jp-widgets-label-color: white;\n",
       "                    --jp-ui-font-color1: white;\n",
       "                    --jp-layout-color2: #454545;\n",
       "                    background-color: #383838;\n",
       "                }\n",
       "                    \n",
       "                .geemap-dark .jupyter-button {\n",
       "                    --jp-layout-color3: #383838;\n",
       "                }\n",
       "                \n",
       "                .geemap-colab {\n",
       "                    background-color: var(--colab-primary-surface-color, white);\n",
       "                }\n",
       "                    \n",
       "                .geemap-colab .jupyter-button {\n",
       "                    --jp-layout-color3: var(--colab-primary-surface-color, white);\n",
       "                }\n",
       "            </style>\n",
       "            "
      ],
      "text/plain": [
       "<IPython.core.display.HTML object>"
      ]
     },
     "metadata": {},
     "output_type": "display_data"
    }
   ],
   "source": [
    "# sequence mosaic dates monthly\n",
    "n_monthly = endDate.difference(startDate, \"month\")\n",
    "monthlyDates = ee.List.sequence(0, n_monthly.ceil()).map(\n",
    "    lambda n: ee.DateRange(\n",
    "        startDate.advance(ee.Number(n), \"month\"),\n",
    "        startDate.advance(ee.Number(n).add(1), \"month\"),\n",
    "    )\n",
    ")\n",
    "\n",
    "# sequence mosaic dates bi-weekly\n",
    "n_biWeekly = ee.Number(endDate.difference(startDate, \"week\")).divide(2)\n",
    "biWeeklyDates = ee.List.sequence(0, n_biWeekly.ceil()).map(\n",
    "    lambda n: ee.DateRange(\n",
    "        startDate.advance(ee.Number(n).multiply(2), \"week\"),\n",
    "        startDate.advance(ee.Number(n).multiply(2).add(2), \"week\"),\n",
    "    )\n",
    ")"
   ]
  },
  {
   "cell_type": "code",
   "execution_count": 14,
   "metadata": {},
   "outputs": [
    {
     "data": {
      "text/html": [
       "\n",
       "            <style>\n",
       "                .geemap-dark {\n",
       "                    --jp-widgets-color: white;\n",
       "                    --jp-widgets-label-color: white;\n",
       "                    --jp-ui-font-color1: white;\n",
       "                    --jp-layout-color2: #454545;\n",
       "                    background-color: #383838;\n",
       "                }\n",
       "                    \n",
       "                .geemap-dark .jupyter-button {\n",
       "                    --jp-layout-color3: #383838;\n",
       "                }\n",
       "                \n",
       "                .geemap-colab {\n",
       "                    background-color: var(--colab-primary-surface-color, white);\n",
       "                }\n",
       "                    \n",
       "                .geemap-colab .jupyter-button {\n",
       "                    --jp-layout-color3: var(--colab-primary-surface-color, white);\n",
       "                }\n",
       "            </style>\n",
       "            "
      ],
      "text/plain": [
       "<IPython.core.display.HTML object>"
      ]
     },
     "metadata": {},
     "output_type": "display_data"
    }
   ],
   "source": [
    "# Specify mosaic date range\n",
    "# mosaicStartDate = ee.DateRange(dateRange).start()\n",
    "# mosaicEndDate = ee.DateRange(dateRange).end()\n",
    "mosaicStartDate = ee.Date(\"2022-05-01\")\n",
    "mosaicEndDate = ee.Date(\"2022-05-30\")\n",
    "\n",
    "# Create a mosaic of the Landsat 8 images\n",
    "mosaic = (\n",
    "    landsat8.filterBounds(reservoir.merge(downstream))\n",
    "    .filterDate(mosaicStartDate, mosaicEndDate)\n",
    "    .map(prepareLandsat8)\n",
    "    .map(addNDWI)\n",
    "    .map(addCelsius)\n",
    "    .mosaic()\n",
    ")"
   ]
  },
  {
   "cell_type": "markdown",
   "metadata": {},
   "source": [
    "### 4.2. Mask Out Water Pixels <a class=\"anchor\" id=\"MaskOutWaterPixels\"></a>"
   ]
  },
  {
   "cell_type": "code",
   "execution_count": 15,
   "metadata": {},
   "outputs": [
    {
     "data": {
      "text/html": [
       "\n",
       "            <style>\n",
       "                .geemap-dark {\n",
       "                    --jp-widgets-color: white;\n",
       "                    --jp-widgets-label-color: white;\n",
       "                    --jp-ui-font-color1: white;\n",
       "                    --jp-layout-color2: #454545;\n",
       "                    background-color: #383838;\n",
       "                }\n",
       "                    \n",
       "                .geemap-dark .jupyter-button {\n",
       "                    --jp-layout-color3: #383838;\n",
       "                }\n",
       "                \n",
       "                .geemap-colab {\n",
       "                    background-color: var(--colab-primary-surface-color, white);\n",
       "                }\n",
       "                    \n",
       "                .geemap-colab .jupyter-button {\n",
       "                    --jp-layout-color3: var(--colab-primary-surface-color, white);\n",
       "                }\n",
       "            </style>\n",
       "            "
      ],
      "text/plain": [
       "<IPython.core.display.HTML object>"
      ]
     },
     "metadata": {},
     "output_type": "display_data"
    }
   ],
   "source": [
    "# Create a mask for the water pixels using the NDWI band\n",
    "waterMaskNdwi = mosaic.select(\"NDWI\").gt() #** enter treshold for water pixels\n",
    "\n",
    "# Create a mask for the water pixels using the QA_PIXEL band\n",
    "waterMask = (\n",
    "    mosaic\n",
    "    .select(\"QA_PIXEL\")\n",
    "    .bitwiseAnd() #** enter bit value for water\n",
    "    .neq(0)\n",
    ")  # bit value for water\n",
    "mosaic = mosaic.updateMask(waterMask)"
   ]
  },
  {
   "cell_type": "code",
   "execution_count": 16,
   "metadata": {},
   "outputs": [
    {
     "data": {
      "text/html": [
       "\n",
       "            <style>\n",
       "                .geemap-dark {\n",
       "                    --jp-widgets-color: white;\n",
       "                    --jp-widgets-label-color: white;\n",
       "                    --jp-ui-font-color1: white;\n",
       "                    --jp-layout-color2: #454545;\n",
       "                    background-color: #383838;\n",
       "                }\n",
       "                    \n",
       "                .geemap-dark .jupyter-button {\n",
       "                    --jp-layout-color3: #383838;\n",
       "                }\n",
       "                \n",
       "                .geemap-colab {\n",
       "                    background-color: var(--colab-primary-surface-color, white);\n",
       "                }\n",
       "                    \n",
       "                .geemap-colab .jupyter-button {\n",
       "                    --jp-layout-color3: var(--colab-primary-surface-color, white);\n",
       "                }\n",
       "            </style>\n",
       "            "
      ],
      "text/plain": [
       "<IPython.core.display.HTML object>"
      ]
     },
     "metadata": {},
     "output_type": "display_data"
    }
   ],
   "source": [
    "# Add the mosaicked and masked image to the map\n",
    "Map.addLayer(\n",
    "    mosaic,\n",
    "    {\"bands\": [\"Celsius\"], \"min\": 5, \"max\": 35, \"palette\": [\"blue\", \"green\", \"red\"]},\n",
    "    \"Temperature (C)\",\n",
    ")"
   ]
  },
  {
   "cell_type": "code",
   "execution_count": null,
   "metadata": {},
   "outputs": [],
   "source": [
    "#?? Can you modify the code to generate images over land instead of water?"
   ]
  },
  {
   "cell_type": "markdown",
   "metadata": {},
   "source": [
    "### 4.3. Generate Temperature Time Series <a class=\"anchor\" id=\"GenerateTimeSeries\"></a>"
   ]
  },
  {
   "cell_type": "code",
   "execution_count": 17,
   "metadata": {},
   "outputs": [
    {
     "data": {
      "text/html": [
       "\n",
       "            <style>\n",
       "                .geemap-dark {\n",
       "                    --jp-widgets-color: white;\n",
       "                    --jp-widgets-label-color: white;\n",
       "                    --jp-ui-font-color1: white;\n",
       "                    --jp-layout-color2: #454545;\n",
       "                    background-color: #383838;\n",
       "                }\n",
       "                    \n",
       "                .geemap-dark .jupyter-button {\n",
       "                    --jp-layout-color3: #383838;\n",
       "                }\n",
       "                \n",
       "                .geemap-colab {\n",
       "                    background-color: var(--colab-primary-surface-color, white);\n",
       "                }\n",
       "                    \n",
       "                .geemap-colab .jupyter-button {\n",
       "                    --jp-layout-color3: var(--colab-primary-surface-color, white);\n",
       "                }\n",
       "            </style>\n",
       "            "
      ],
      "text/plain": [
       "<IPython.core.display.HTML object>"
      ]
     },
     "metadata": {},
     "output_type": "display_data"
    }
   ],
   "source": [
    "# Extract water temperature\n",
    "def extractWaterTemperature(dateRange):\n",
    "    mosaicStartDate = ee.DateRange(dateRange).start()\n",
    "    mosaicEndDate = ee.DateRange(dateRange).end()\n",
    "\n",
    "    mosaic = (\n",
    "        landsat8\n",
    "        .filterBounds(reservoir.merge(downstream))\n",
    "        .filterDate(mosaicStartDate, mosaicEndDate)\n",
    "        .map(prepareLandsat8)\n",
    "        .map(addNDWI)\n",
    "        .map(addCelsius)\n",
    "        .mosaic()\n",
    "    )\n",
    "\n",
    "    # Create a mask for the water pixels using the NDWI band\n",
    "    waterMaskNdwi = mosaic.select(\"NDWI\").gt() #** enter treshold for water pixels\n",
    "\n",
    "    # Create a mask for the water pixels using the QA_PIXEL band\n",
    "    waterMask = (\n",
    "        mosaic\n",
    "        .select(\"QA_PIXEL\")\n",
    "        .bitwiseAnd() #** enter bit value for water\n",
    "        .neq(0)\n",
    "    )  # bit value for water\n",
    "    mosaic = mosaic.updateMask(waterMask)\n",
    "\n",
    "    # Find the mean values of the Celsius over the reservoir\n",
    "    meanReservoirTemperature = mosaic.select(\"Celsius\").reduceRegion(\n",
    "        ee.Reducer.mean(), reservoir.geometry(), 30\n",
    "    )\n",
    "    # # Find the mean values of the Celsius downstream\n",
    "    meanDownstreamTemperature = mosaic.select(\"Celsius\").reduceRegion(\n",
    "        ee.Reducer.mean(), downstream.geometry(), 30\n",
    "    )\n",
    "\n",
    "    return ee.Feature(\n",
    "        None,\n",
    "        {\n",
    "            \"date\": mosaicStartDate.format(\"YYYY-MM-dd\"),\n",
    "            \"reservoirTemp\": ee.Number(meanReservoirTemperature.get('Celsius')),\n",
    "            \"downstreamTemp\": ee.Number(meanDownstreamTemperature.get('Celsius')),\n",
    "        },\n",
    "    )"
   ]
  },
  {
   "cell_type": "code",
   "execution_count": 18,
   "metadata": {},
   "outputs": [
    {
     "data": {
      "text/html": [
       "\n",
       "            <style>\n",
       "                .geemap-dark {\n",
       "                    --jp-widgets-color: white;\n",
       "                    --jp-widgets-label-color: white;\n",
       "                    --jp-ui-font-color1: white;\n",
       "                    --jp-layout-color2: #454545;\n",
       "                    background-color: #383838;\n",
       "                }\n",
       "                    \n",
       "                .geemap-dark .jupyter-button {\n",
       "                    --jp-layout-color3: #383838;\n",
       "                }\n",
       "                \n",
       "                .geemap-colab {\n",
       "                    background-color: var(--colab-primary-surface-color, white);\n",
       "                }\n",
       "                    \n",
       "                .geemap-colab .jupyter-button {\n",
       "                    --jp-layout-color3: var(--colab-primary-surface-color, white);\n",
       "                }\n",
       "            </style>\n",
       "            "
      ],
      "text/plain": [
       "<IPython.core.display.HTML object>"
      ]
     },
     "metadata": {},
     "output_type": "display_data"
    }
   ],
   "source": [
    "# Map the extractWaterTemperature function over date sequence\n",
    "temperatureSeries = ee.FeatureCollection(\n",
    "    monthlyDates.map(extractWaterTemperature)\n",
    ")"
   ]
  },
  {
   "cell_type": "markdown",
   "metadata": {},
   "source": [
    "### 4.4. Plot Time Series <a class=\"anchor\" id=\"PlotTimeSeries\"></a>"
   ]
  },
  {
   "cell_type": "code",
   "execution_count": 19,
   "metadata": {},
   "outputs": [
    {
     "data": {
      "text/html": [
       "\n",
       "            <style>\n",
       "                .geemap-dark {\n",
       "                    --jp-widgets-color: white;\n",
       "                    --jp-widgets-label-color: white;\n",
       "                    --jp-ui-font-color1: white;\n",
       "                    --jp-layout-color2: #454545;\n",
       "                    background-color: #383838;\n",
       "                }\n",
       "                    \n",
       "                .geemap-dark .jupyter-button {\n",
       "                    --jp-layout-color3: #383838;\n",
       "                }\n",
       "                \n",
       "                .geemap-colab {\n",
       "                    background-color: var(--colab-primary-surface-color, white);\n",
       "                }\n",
       "                    \n",
       "                .geemap-colab .jupyter-button {\n",
       "                    --jp-layout-color3: var(--colab-primary-surface-color, white);\n",
       "                }\n",
       "            </style>\n",
       "            "
      ],
      "text/plain": [
       "<IPython.core.display.HTML object>"
      ]
     },
     "metadata": {},
     "output_type": "display_data"
    },
    {
     "data": {
      "image/png": "[encoded data removed]",
      "text/plain": [
       "<Figure size 1000x500 with 1 Axes>"
      ]
     },
     "metadata": {},
     "output_type": "display_data"
    }
   ],
   "source": [
    "# convert temperature series to pandas dataframe\n",
    "temperatureSeriesDf = geemap.ee_to_pandas(temperatureSeries)\n",
    "temperatureSeriesDf[\"date\"] = pd.to_datetime(temperatureSeriesDf[\"date\"])\n",
    "\n",
    "# plot temperature series\n",
    "fig, ax = plt.subplots(figsize=(10, 5))\n",
    "ax.plot(\n",
    "    temperatureSeriesDf[\"date\"], temperatureSeriesDf[\"reservoirTemp\"], label=\"Reservoir\"\n",
    ")\n",
    "ax.plot(\n",
    "    temperatureSeriesDf[\"date\"],\n",
    "    temperatureSeriesDf[\"downstreamTemp\"],\n",
    "    label=\"Downstream\",\n",
    ")\n",
    "ax.set_xlabel(\"Date\")\n",
    "ax.set_ylabel(\"Temperature (C)\")\n",
    "ax.set_title(\"Water Temperature\")\n",
    "ax.legend()\n",
    "plt.show()"
   ]
  }
 ],
 "metadata": {
  "kernelspec": {
   "display_name": "gee_tutorial",
   "language": "python",
   "name": "python3"
  },
  "language_info": {
   "codemirror_mode": {
    "name": "ipython",
    "version": 3
   },
   "file_extension": ".py",
   "mimetype": "text/x-python",
   "name": "python",
   "nbconvert_exporter": "python",
   "pygments_lexer": "ipython3",
   "version": "3.12.0"
  }
 },
 "nbformat": 4,
 "nbformat_minor": 2
}
